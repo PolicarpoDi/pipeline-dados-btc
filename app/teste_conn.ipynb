{
 "cells": [
  {
   "cell_type": "code",
   "execution_count": 8,
   "metadata": {},
   "outputs": [],
   "source": [
    "import time\n",
    "\n",
    "import joblib\n",
    "import pandas as pd\n",
    "import requests\n",
    "from kafka import KafkaProducer\n",
    "from sklearn.linear_model import LinearRegression"
   ]
  },
  {
   "cell_type": "code",
   "execution_count": 9,
   "metadata": {},
   "outputs": [],
   "source": [
    "def get_bitcoin_data():\n",
    "    url = \"https://api.coingecko.com/api/v3/coins/bitcoin/market_chart\"\n",
    "    params = {\"vs_currency\": \"usd\", \"days\": \"30\"}\n",
    "    response = requests.get(url, params)\n",
    "    data = response.json()\n",
    "    prices = data['prices']\n",
    "    df = pd.DataFrame(prices, columns=[\"timestamp\", \"price\"])\n",
    "    df[\"timestamp\"] = pd.to_datetime(df['timestamp'], unit='ms')\n",
    "    return df"
   ]
  },
  {
   "cell_type": "code",
   "execution_count": 11,
   "metadata": {},
   "outputs": [],
   "source": [
    "def train_model():\n",
    "    df = get_bitcoin_data()\n",
    "    if df is None or df.empty:\n",
    "        print(\"Erro: Dados do Bitcoin não disponíveis.\")\n",
    "        return None\n",
    "\n",
    "    df['price_previous'] = df['price'].shift(1)\n",
    "    df = df.dropna()\n",
    "    X = df[['price_previous']]\n",
    "    y = df['price']\n",
    "    \n",
    "    model = LinearRegression()\n",
    "    model.fit(X, y)\n",
    "    \n",
    "    joblib.dump(model, 'bitcoin_model.pkl')\n",
    "    \n",
    "    print(\"✅ Modelo treinado com sucesso\")\n",
    "    return \"Modelo treinado com sucesso\""
   ]
  },
  {
   "cell_type": "code",
   "execution_count": 4,
   "metadata": {},
   "outputs": [],
   "source": [
    "def predict_price():\n",
    "    df = get_bitcoin_data()\n",
    "    \n",
    "    if df.empty:\n",
    "        raise ValueError(\"Erro: Dados do Bitcoin não foram coletados corretamente.\")\n",
    "    \n",
    "    model = joblib.load('bitcoin_model.pkl')\n",
    "    \n",
    "    last_price = df['price'].iloc[-1]\n",
    "    predicted_price = model.predict([[last_price]])[0]  # Pegamos apenas o primeiro valor da previsão\n",
    "    \n",
    "    # Formatando para duas casas decimais\n",
    "    predicted_price_formatted = round(float(predicted_price), 2)\n",
    "    \n",
    "    print(f\"💲Preço previsto para o próximo dia: {predicted_price_formatted}\")\n",
    "    \n",
    "    return predicted_price_formatted"
   ]
  },
  {
   "cell_type": "code",
   "execution_count": 12,
   "metadata": {},
   "outputs": [
    {
     "data": {
      "text/html": [
       "<div>\n",
       "<style scoped>\n",
       "    .dataframe tbody tr th:only-of-type {\n",
       "        vertical-align: middle;\n",
       "    }\n",
       "\n",
       "    .dataframe tbody tr th {\n",
       "        vertical-align: top;\n",
       "    }\n",
       "\n",
       "    .dataframe thead th {\n",
       "        text-align: right;\n",
       "    }\n",
       "</style>\n",
       "<table border=\"1\" class=\"dataframe\">\n",
       "  <thead>\n",
       "    <tr style=\"text-align: right;\">\n",
       "      <th></th>\n",
       "      <th>timestamp</th>\n",
       "      <th>price</th>\n",
       "    </tr>\n",
       "  </thead>\n",
       "  <tbody>\n",
       "    <tr>\n",
       "      <th>0</th>\n",
       "      <td>2025-01-07 23:01:54.139</td>\n",
       "      <td>96966.665012</td>\n",
       "    </tr>\n",
       "    <tr>\n",
       "      <th>1</th>\n",
       "      <td>2025-01-08 00:03:56.480</td>\n",
       "      <td>96952.098868</td>\n",
       "    </tr>\n",
       "    <tr>\n",
       "      <th>2</th>\n",
       "      <td>2025-01-08 01:00:01.762</td>\n",
       "      <td>97121.198531</td>\n",
       "    </tr>\n",
       "    <tr>\n",
       "      <th>3</th>\n",
       "      <td>2025-01-08 02:00:06.054</td>\n",
       "      <td>96652.024304</td>\n",
       "    </tr>\n",
       "    <tr>\n",
       "      <th>4</th>\n",
       "      <td>2025-01-08 03:03:41.727</td>\n",
       "      <td>96866.906198</td>\n",
       "    </tr>\n",
       "    <tr>\n",
       "      <th>...</th>\n",
       "      <td>...</td>\n",
       "      <td>...</td>\n",
       "    </tr>\n",
       "    <tr>\n",
       "      <th>714</th>\n",
       "      <td>2025-02-06 19:02:56.212</td>\n",
       "      <td>96340.129989</td>\n",
       "    </tr>\n",
       "    <tr>\n",
       "      <th>715</th>\n",
       "      <td>2025-02-06 20:04:01.843</td>\n",
       "      <td>95967.150040</td>\n",
       "    </tr>\n",
       "    <tr>\n",
       "      <th>716</th>\n",
       "      <td>2025-02-06 21:03:56.060</td>\n",
       "      <td>96900.668886</td>\n",
       "    </tr>\n",
       "    <tr>\n",
       "      <th>717</th>\n",
       "      <td>2025-02-06 22:01:12.092</td>\n",
       "      <td>96784.585045</td>\n",
       "    </tr>\n",
       "    <tr>\n",
       "      <th>718</th>\n",
       "      <td>2025-02-06 23:13:01.000</td>\n",
       "      <td>96773.964378</td>\n",
       "    </tr>\n",
       "  </tbody>\n",
       "</table>\n",
       "<p>719 rows × 2 columns</p>\n",
       "</div>"
      ],
      "text/plain": [
       "                  timestamp         price\n",
       "0   2025-01-07 23:01:54.139  96966.665012\n",
       "1   2025-01-08 00:03:56.480  96952.098868\n",
       "2   2025-01-08 01:00:01.762  97121.198531\n",
       "3   2025-01-08 02:00:06.054  96652.024304\n",
       "4   2025-01-08 03:03:41.727  96866.906198\n",
       "..                      ...           ...\n",
       "714 2025-02-06 19:02:56.212  96340.129989\n",
       "715 2025-02-06 20:04:01.843  95967.150040\n",
       "716 2025-02-06 21:03:56.060  96900.668886\n",
       "717 2025-02-06 22:01:12.092  96784.585045\n",
       "718 2025-02-06 23:13:01.000  96773.964378\n",
       "\n",
       "[719 rows x 2 columns]"
      ]
     },
     "execution_count": 12,
     "metadata": {},
     "output_type": "execute_result"
    }
   ],
   "source": [
    "get_bitcoin_data()"
   ]
  },
  {
   "cell_type": "code",
   "execution_count": 13,
   "metadata": {},
   "outputs": [
    {
     "name": "stdout",
     "output_type": "stream",
     "text": [
      "✅ Modelo treinado com sucesso\n"
     ]
    },
    {
     "data": {
      "text/plain": [
       "'Modelo treinado com sucesso'"
      ]
     },
     "execution_count": 13,
     "metadata": {},
     "output_type": "execute_result"
    }
   ],
   "source": [
    "train_model()"
   ]
  },
  {
   "cell_type": "code",
   "execution_count": 14,
   "metadata": {},
   "outputs": [
    {
     "name": "stdout",
     "output_type": "stream",
     "text": [
      "💲Preço previsto para o próximo dia: 96813.34\n"
     ]
    },
    {
     "name": "stderr",
     "output_type": "stream",
     "text": [
      "/home/policarpo/Projetos/Pessoal/pipeline-dados-btc/app/venv/lib/python3.10/site-packages/sklearn/utils/validation.py:2739: UserWarning: X does not have valid feature names, but LinearRegression was fitted with feature names\n",
      "  warnings.warn(\n"
     ]
    },
    {
     "data": {
      "text/plain": [
       "96813.34"
      ]
     },
     "execution_count": 14,
     "metadata": {},
     "output_type": "execute_result"
    }
   ],
   "source": [
    "predict_price()"
   ]
  }
 ],
 "metadata": {
  "kernelspec": {
   "display_name": "venv",
   "language": "python",
   "name": "python3"
  },
  "language_info": {
   "codemirror_mode": {
    "name": "ipython",
    "version": 3
   },
   "file_extension": ".py",
   "mimetype": "text/x-python",
   "name": "python",
   "nbconvert_exporter": "python",
   "pygments_lexer": "ipython3",
   "version": "3.10.12"
  }
 },
 "nbformat": 4,
 "nbformat_minor": 2
}
